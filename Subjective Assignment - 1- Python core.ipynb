{
 "cells": [
  {
   "cell_type": "markdown",
   "metadata": {},
   "source": [
    "Q1. Write a Python program to get the string from the given string where\n",
    "all the occurrence of its first char has been changed to '$,' except first\n",
    "char itself?\n",
    "\n",
    "    Sample String: 'prospect'\n",
    "    Expected Result : 'pros$ect'\n"
   ]
  },
  {
   "cell_type": "code",
   "execution_count": 9,
   "metadata": {},
   "outputs": [
    {
     "name": "stdout",
     "output_type": "stream",
     "text": [
      "Enter a string : prospect\n",
      "pros$ect\n"
     ]
    }
   ],
   "source": [
    "my_str = input(\"Enter a string : \")\n",
    "new_str = my_str[0]\n",
    "\n",
    "r = my_str[0]\n",
    "\n",
    "\n",
    "for i in range(1,len(my_str)):\n",
    "    if my_str[i] == r :\n",
    "        new_str = new_str + '$'\n",
    "    else:\n",
    "        new_str = new_str + my_str[i]\n",
    "\n",
    "print(new_str)        \n",
    "        "
   ]
  },
  {
   "cell_type": "markdown",
   "metadata": {},
   "source": [
    "Q2. Write a Python program to get the single string from the two given\n",
    "strings, and separated by the space and swap the first two characters of\n",
    "each string?\n",
    "\n",
    "    Sample String : 'abc', 'xyz'.\n",
    "    Expected Result: 'xyc abz'"
   ]
  },
  {
   "cell_type": "code",
   "execution_count": 146,
   "metadata": {},
   "outputs": [
    {
     "name": "stdout",
     "output_type": "stream",
     "text": [
      "Enter a String : Abhishek\n",
      "Enter the Second String : Gaurav\n",
      "Gahishek Aburav\n"
     ]
    }
   ],
   "source": [
    "str1 = input(\"Enter a String : \")\n",
    "str2 = input (\"Enter the Second String : \")\n",
    "\n",
    "if len(str1) >=3 and len(str2) >=3:\n",
    "    res = str2[0:2] + str1[2:] + \" \" + str1[0:2] + str2[2:]\n",
    "    print(res)\n",
    "else:\n",
    "    print(\"Error !! Both of the string lengh should be grater then or equal to 3\")"
   ]
  },
  {
   "cell_type": "markdown",
   "metadata": {},
   "source": [
    "Q3. Write the Python program to add 'ing' at the end of the given string\n",
    "(length of the string should be at least 3). If given string already ends\n",
    "with 'ing,' then add 'ly' instead. If string length of the given string is less\n",
    "than 3, leave it unchanged?\n",
    "\n",
    "\n",
    "    Sample string: ' abc '\n",
    "    Expected result: ' abcing '\n",
    "    Sample string: ' string '\n",
    "    Expected result: ' stringly '\n"
   ]
  },
  {
   "cell_type": "code",
   "execution_count": 147,
   "metadata": {},
   "outputs": [
    {
     "name": "stdout",
     "output_type": "stream",
     "text": [
      "Enter a first string : Abcd\n",
      "Abcding\n"
     ]
    }
   ],
   "source": [
    "def add_ing(str1):\n",
    "\n",
    "    if len(str1) < 3:\n",
    "        return str1\n",
    "    elif str1[-3:] =='ing':\n",
    "        return str1 + \"ly\"\n",
    "    else:\n",
    "        return str1 + \"ing\"\n",
    "\n",
    "\n",
    "str1 = input(\"Enter a first string : \")\n",
    "\n",
    "res = add_ing(str1)\n",
    "print(res)"
   ]
  },
  {
   "cell_type": "markdown",
   "metadata": {},
   "source": [
    "Q4. Write the Python program to find the first appearance of the\n",
    "substring 'not' and 'poor' from the given string, if 'not' follows the 'poor',\n",
    "replace the whole 'not'...' poor' substring with 'good'.Return the resulting\n",
    "string.\n",
    "\n",
    "    Sample string: 'The lyrics are not that poor!'\n",
    "    'The lyrics are poor!'\n",
    "    Expected Result: 'The lyrics are good!'\n",
    "    'The lyrics are poor!'"
   ]
  },
  {
   "cell_type": "code",
   "execution_count": 70,
   "metadata": {},
   "outputs": [
    {
     "name": "stdout",
     "output_type": "stream",
     "text": [
      "The lyrics are not that !\n"
     ]
    }
   ],
   "source": [
    "sample_string = 'The lyrics are not that poor!'\n",
    "\n",
    "res = sample_string.replace('poor','')\n",
    "\n",
    "print(res)"
   ]
  },
  {
   "cell_type": "markdown",
   "metadata": {},
   "source": [
    "Q5. Write the Python program to remove the characters which have odd\n",
    "index values of a given string."
   ]
  },
  {
   "cell_type": "code",
   "execution_count": 50,
   "metadata": {},
   "outputs": [
    {
     "name": "stdout",
     "output_type": "stream",
     "text": [
      "Enter a String : Abhishek\n",
      "\n",
      "String post removal of odd indexes : Ahse\n"
     ]
    }
   ],
   "source": [
    "st = input(\"Enter a String : \")\n",
    "rs = \"\"\n",
    "\n",
    "for c in range(0,len(st),2):\n",
    "    rs = rs + st[c]\n",
    "    \n",
    "print(\"\\nString post removal of odd indexes : \" + rs)    "
   ]
  },
  {
   "cell_type": "markdown",
   "metadata": {},
   "source": [
    "Q6. Write the python program to print the following floating numbers up\n",
    "to 2 decimal places?"
   ]
  },
  {
   "cell_type": "code",
   "execution_count": 81,
   "metadata": {},
   "outputs": [
    {
     "name": "stdout",
     "output_type": "stream",
     "text": [
      "Enter a floating point number : 12.43343\n",
      "12.43\n"
     ]
    }
   ],
   "source": [
    "import math\n",
    "num = float(input(\"Enter a floating point number : \"))\n",
    "print(format(num,'.2f'))"
   ]
  },
  {
   "cell_type": "markdown",
   "metadata": {},
   "source": [
    "Q7. Write the Python program to format a number with a percentage?"
   ]
  },
  {
   "cell_type": "code",
   "execution_count": 79,
   "metadata": {},
   "outputs": [
    {
     "name": "stdout",
     "output_type": "stream",
     "text": [
      "Enter the percentage : 50.25\n",
      "50.25%\n"
     ]
    }
   ],
   "source": [
    "per = float(input(\"Enter the percentage : \"))\n",
    "\n",
    "per = per/100\n",
    "\n",
    "print(format(per,'.2%'))\n"
   ]
  },
  {
   "cell_type": "markdown",
   "metadata": {},
   "source": [
    "Q8. Write the Python program to count occurrences of a substring in a\n",
    "String?"
   ]
  },
  {
   "cell_type": "code",
   "execution_count": 88,
   "metadata": {},
   "outputs": [
    {
     "name": "stdout",
     "output_type": "stream",
     "text": [
      "Enter the string : AbhishekAbhi\n",
      "Enter the substring Abhi\n",
      "The No. of occurrences are : 2 \n"
     ]
    }
   ],
   "source": [
    "main_str = input(\"Enter the string : \")\n",
    "sub_str  = input(\"Enter the substring \")\n",
    "\n",
    "print(\"The No. of occurrences are : {} \".format(main_str.count(sub_str)))\n",
    "\n",
    "\n",
    "          "
   ]
  },
  {
   "cell_type": "markdown",
   "metadata": {},
   "source": [
    "Q9. Write the Python program to count repeated characters in a string.\n",
    "\n",
    "    Sample string: ' thequickbrownjumpsoverthelazydog '\n",
    "    \n",
    "    Expected output:\n",
    "    o 3\n",
    "    e 3\n",
    "    u 2\n",
    "    h 2\n",
    "    r 2\n",
    "    t 2"
   ]
  },
  {
   "cell_type": "code",
   "execution_count": 45,
   "metadata": {},
   "outputs": [
    {
     "name": "stdout",
     "output_type": "stream",
     "text": [
      "t 2\n",
      "h 2\n",
      "e 3\n",
      "u 2\n",
      "r 2\n",
      "o 3\n"
     ]
    }
   ],
   "source": [
    "str1 = 'thequickbrownjumpsoverthelazydog'\n",
    "res = \"\"\n",
    "\n",
    "for c in str1:\n",
    "    if c not in res:\n",
    "        res = res + c\n",
    "        \n",
    "for c1 in res:\n",
    "    cnt = str1.count(c1)\n",
    "    if cnt > 1 :\n",
    "        print(c1 + \" \" + str(cnt))\n"
   ]
  },
  {
   "cell_type": "markdown",
   "metadata": {},
   "source": [
    "Q10. Write the Python program to print the square and cube symbol in\n",
    "the area of a rectangle and volume of a cylinder?\n",
    "\n",
    "    Sample outputThe area of the rectangle is 1256.66cm2\n",
    "    The volume of the cylinder is 1254.725cm3\n"
   ]
  },
  {
   "cell_type": "code",
   "execution_count": null,
   "metadata": {},
   "outputs": [],
   "source": []
  },
  {
   "cell_type": "markdown",
   "metadata": {},
   "source": [
    "Q11. Write the Python program to check if a string contains all letters of\n",
    "the alphabet?"
   ]
  },
  {
   "cell_type": "code",
   "execution_count": 43,
   "metadata": {},
   "outputs": [
    {
     "name": "stdout",
     "output_type": "stream",
     "text": [
      "Enter the String : Abhis3\n",
      "String do not contains all letters of the alphabet\n"
     ]
    }
   ],
   "source": [
    "def is_present(alpha,s1):\n",
    "    \n",
    "    for c in s1:\n",
    "        if c not in alpha:\n",
    "            return False\n",
    "    \n",
    "    return True    \n",
    "    \n",
    "\n",
    "\n",
    "alpha = \"abcdefghijklmnopqrstuvwxyz\"\n",
    "\n",
    "s1 = input(\"Enter the String : \")\n",
    "\n",
    "if (is_present(alpha.upper(),s1.upper())):\n",
    "    print(\"String contains all letters of the alphabet\")\n",
    "else:\n",
    "    print(\"String does not contain all letters of the alphabet\")\n",
    "\n",
    "    "
   ]
  },
  {
   "cell_type": "markdown",
   "metadata": {},
   "source": [
    "Q12. Write the Python program to find the second most repeated word\n",
    "in a given string?"
   ]
  },
  {
   "cell_type": "code",
   "execution_count": 145,
   "metadata": {},
   "outputs": [
    {
     "name": "stdout",
     "output_type": "stream",
     "text": [
      "\n",
      "Dictionary.........\n",
      "{'Python': 3, 'program': 1, 'is': 3, 'very': 2, 'simple': 1, 'to': 1, 'understand.': 1, 'powerful': 1, 'it,': 1, '?': 1}\n",
      "\n",
      "Sorted list of Tuples.......\n",
      "\n",
      "[('Python', 3), ('is', 3), ('very', 2), ('program', 1), ('simple', 1), ('to', 1), ('understand.', 1), ('powerful', 1), ('it,', 1), ('?', 1)]\n",
      "\n",
      "Second Most repeted word in the list : is\n"
     ]
    }
   ],
   "source": [
    "v_str = \"Python program is very simple to understand. Python is very powerful is it, Python ?\"\n",
    "v_dict = {}\n",
    "\n",
    "#Split the string into words\n",
    "v_res_list = v_str.split(\" \") \n",
    "\n",
    "#Store the words into dict objects\n",
    "for my_item in v_res_list: \n",
    "    cnt = v_res_list.count(my_item)\n",
    "    v_dict[my_item] = cnt\n",
    "\n",
    "#checking the dictionary   \n",
    "print(\"\\nDictionary.........\")\n",
    "print(v_dict)    \n",
    "\n",
    "#sort the dictionary on the basis of values\n",
    "my_sorted_list = sorted(v_dict.items(), key=lambda x: x[1], reverse = True)\n",
    "\n",
    "#print the sorted list\n",
    "print(\"\\nSorted list of Tuples.......\\n\")\n",
    "print(my_sorted_list)\n",
    "      \n",
    "print(\"\\nSecond Most repeted word in the list : \" + my_sorted_list[1][0])\n",
    "\n",
    "\n"
   ]
  },
  {
   "cell_type": "markdown",
   "metadata": {},
   "source": [
    "Q13. Write the Python program to find the minimum window in the given\n",
    "string, which will contains all the characters of another given\n",
    "strings?\n",
    "\n",
    "    Example 1\n",
    "    Input : string1 = \" PRWSOERIUSFK \"\n",
    "    string2 = \" OSU \"\n",
    "    Output: Minimum window is \"OERIUS\""
   ]
  },
  {
   "cell_type": "code",
   "execution_count": null,
   "metadata": {},
   "outputs": [],
   "source": []
  },
  {
   "cell_type": "markdown",
   "metadata": {},
   "source": [
    "Q14. Write the Python program to count number of substrings from a\n",
    "given string of lowercase alphabets with exactly k distinct (given)\n",
    "characters?\n",
    "\n",
    "    Input a string (lowercase alphabets): wolf\n",
    "    Input k: 4\n",
    "    Number of substrings with exactly 4 distinct characters: 1"
   ]
  },
  {
   "cell_type": "code",
   "execution_count": null,
   "metadata": {},
   "outputs": [],
   "source": []
  },
  {
   "cell_type": "markdown",
   "metadata": {},
   "source": [
    "Q15. Write the Python program to count number of substrings with same\n",
    "first and last characters of the given string?\n",
    "\n",
    "    Input a string: abcd\n",
    "    4\n"
   ]
  },
  {
   "cell_type": "code",
   "execution_count": null,
   "metadata": {},
   "outputs": [],
   "source": []
  },
  {
   "cell_type": "markdown",
   "metadata": {},
   "source": [
    "## Great Job!"
   ]
  }
 ],
 "metadata": {
  "kernelspec": {
   "display_name": "Python 3",
   "language": "python",
   "name": "python3"
  },
  "language_info": {
   "codemirror_mode": {
    "name": "ipython",
    "version": 3
   },
   "file_extension": ".py",
   "mimetype": "text/x-python",
   "name": "python",
   "nbconvert_exporter": "python",
   "pygments_lexer": "ipython3",
   "version": "3.7.4"
  }
 },
 "nbformat": 4,
 "nbformat_minor": 2
}
