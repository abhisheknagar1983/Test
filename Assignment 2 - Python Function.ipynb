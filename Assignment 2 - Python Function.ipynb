{
 "cells": [
  {
   "cell_type": "markdown",
   "metadata": {},
   "source": [
    "## Problem Statement"
   ]
  },
  {
   "cell_type": "markdown",
   "metadata": {},
   "source": [
    "Q.1 Write a Python Program to implement your own myreduce() function which works exactly like\n",
    "Python's built-in function reduce()\n"
   ]
  },
  {
   "cell_type": "code",
   "execution_count": 46,
   "metadata": {},
   "outputs": [
    {
     "name": "stdout",
     "output_type": "stream",
     "text": [
      "The result of reduce function is : 25\n"
     ]
    }
   ],
   "source": [
    "#implement custom reduce function to calculate the max number from a list\n",
    "\n",
    "def print_max(a,b):\n",
    "    if a > b:\n",
    "        return a\n",
    "    else:\n",
    "        return b\n",
    "    \n",
    "    \n",
    "def my_reduce(print_max,my_list):\n",
    "    res = my_list[0]\n",
    "    \n",
    "    for i in range(1,len(my_list)):\n",
    "        res = print_max(res,my_list[i])\n",
    "        \n",
    "    return(res)    \n",
    "    \n",
    "\n",
    "my_list = [10,4,7,8,5,25,3,11,19]\n",
    "\n",
    "print(\"The result of reduce function is : {}\".format(my_reduce(print_max,my_list)))\n",
    "    "
   ]
  },
  {
   "cell_type": "markdown",
   "metadata": {},
   "source": [
    "Q.2 Write a Python program to implement your own myfilter() function which works exactly like\n",
    "Python's built-in function filter()"
   ]
  },
  {
   "cell_type": "code",
   "execution_count": 42,
   "metadata": {},
   "outputs": [
    {
     "name": "stdout",
     "output_type": "stream",
     "text": [
      "Enter the value for n : 20\n",
      "First 20 even numbers are :[2, 4, 6, 8, 10, 12, 14, 16, 18, 20] \n"
     ]
    }
   ],
   "source": [
    "#implement custom filter function for first n even numbers\n",
    "\n",
    "def is_even(num):\n",
    "    if num%2==0:\n",
    "        return True\n",
    "    else:\n",
    "        return False\n",
    "    \n",
    "\n",
    "def my_filter(is_even, my_list):\n",
    "    res = []\n",
    "    \n",
    "    for i in my_list:\n",
    "        \n",
    "        if(is_even(i)):\n",
    "            res.append(i)\n",
    "            \n",
    "    return(res)\n",
    "\n",
    "n = int(input(\"Enter the value for n : \"))\n",
    "\n",
    "my_list = range(1,n+1)\n",
    "\n",
    "res = my_filter(is_even,my_list)\n",
    "\n",
    "print(\"First {} even numbers are :{} \".format(n,res))"
   ]
  },
  {
   "cell_type": "markdown",
   "metadata": {},
   "source": [
    "Q.3 Implement List comprehensions to produce the following lists.\n",
    "   Write List comprehensions to produce the following Lists\n",
    "   \n",
    "    ['A', 'C', 'A', 'D', 'G', 'I', ’L’, ‘ D’]\n",
    "   \n",
    "    ['x', 'xx', 'xxx', 'xxxx', 'y', 'yy', 'yyy', 'yyyy', 'z', 'zz', 'zzz', 'zzzz']\n",
    "\n",
    "    ['x', 'y', 'z', 'xx', 'yy', 'zz', 'xx', 'yy', 'zz', 'xxxx', 'yyyy', 'zzzz']\n",
    "    \n",
    "    [[2], [3], [4], [3], [4], [5], [4], [5], [6]]\n",
    "\n",
    "    [[2, 3, 4, 5], [3, 4, 5, 6], [4, 5, 6, 7], [5, 6, 7, 8]]\n",
    "\n",
    "    [(1, 1), (2, 1), (3, 1), (1, 2), (2, 2), (3, 2), (1, 3), (2, 3), (3, 3)]"
   ]
  },
  {
   "cell_type": "code",
   "execution_count": 35,
   "metadata": {},
   "outputs": [
    {
     "name": "stdout",
     "output_type": "stream",
     "text": [
      "['xx', 'yy', 'zz']\n"
     ]
    }
   ],
   "source": [
    "my_list = ['x','y','z']\n",
    "\n",
    "res = []\n",
    "\n",
    "for i in my_list:\n",
    "    res.append(i+i)\n",
    "\n",
    "print(res)    \n"
   ]
  },
  {
   "cell_type": "markdown",
   "metadata": {},
   "source": [
    "Q.4 Implement a function longestWord() that takes a list of words and returns the longest one."
   ]
  },
  {
   "cell_type": "code",
   "execution_count": 32,
   "metadata": {},
   "outputs": [
    {
     "name": "stdout",
     "output_type": "stream",
     "text": [
      "Largest word in the list is : Abhishek1234\n"
     ]
    }
   ],
   "source": [
    "def largetword(my_list):\n",
    "    res = my_list[0]\n",
    "    for word in my_list:\n",
    "        if len(word) > len(res):\n",
    "            res = word\n",
    "    return res\n",
    "\n",
    "\n",
    "my_list = [\"Abhishek\",\"Rohit\",\"Rahul\",\"Vivek\",\"Abhishek1234\"]\n",
    "\n",
    "res = largetword(my_list)\n",
    "\n",
    "print(\"Largest word in the list is : \" + res)\n",
    "    "
   ]
  },
  {
   "cell_type": "markdown",
   "metadata": {},
   "source": [
    "Q.5 Write a Python Program(with class concepts) to find the area of the triangle using the below\n",
    "formula.\n",
    "\n",
    "area = (s*(s-a)*(s-b)*(s-c)) ** 0.5\n",
    "\n",
    "Function to take the length of the sides of triangle from user should be defined in the parent\n",
    "class and function to calculate the area should be defined in subclass."
   ]
  },
  {
   "cell_type": "code",
   "execution_count": 31,
   "metadata": {},
   "outputs": [
    {
     "name": "stdout",
     "output_type": "stream",
     "text": [
      "Enter the lenght of first side : 25\n",
      "Enter the length of second side : 12\n",
      "Enter the lenght of third side 22\n",
      "\n",
      "The Area of triangle is : 131.99786930098531  \n"
     ]
    }
   ],
   "source": [
    "class Triangle:\n",
    "    def __init__(self,a,b,c):\n",
    "        self.a = a\n",
    "        self.b = b\n",
    "        self.c = c\n",
    "\n",
    "class Area(Triangle):\n",
    "    \n",
    "    def __init__(self,a,b,c):\n",
    "        super().__init__(a,b,c)\n",
    "        \n",
    "    \n",
    "    def calc_area(self):\n",
    "        s = (self.a + self.b + self.c) / 2\n",
    "        return ((s*(s-self.a) * (s-self.b) * (s-self.c)) ** 0.5)\n",
    "    \n",
    "\n",
    "    \n",
    "a = int(input(\"Enter the lenght of first side : \")) \n",
    "b = int(input(\"Enter the length of second side : \"))\n",
    "c = int(input(\"Enter the lenght of third side \"))\n",
    "\n",
    "t = Area(a,b,c)\n",
    "\n",
    "\n",
    "print(\"\\nThe Area of triangle is : {}  \".format(t.calc_area()))"
   ]
  },
  {
   "cell_type": "markdown",
   "metadata": {},
   "source": [
    "Q.6 Write a function filter_long_words() that takes a list of words and an integer n and returns the list\n",
    "of words that are longer than n."
   ]
  },
  {
   "cell_type": "code",
   "execution_count": 19,
   "metadata": {},
   "outputs": [
    {
     "name": "stdout",
     "output_type": "stream",
     "text": [
      "['Abhishek', 'Gaurav', 'Vinayak', 'Suresh']\n"
     ]
    }
   ],
   "source": [
    "def filter_long_words(my_list,n):\n",
    "    res = []\n",
    "\n",
    "    for i in my_list:\n",
    "        if len(i) > n:\n",
    "            res.append(i)\n",
    "\n",
    "\n",
    "    return res\n",
    "\n",
    "\n",
    "my_list = [\"Abhishek\",\"Vinay\",\"Gaurav\",\"Vinayak\",\"Suresh\"]\n",
    "\n",
    "res = filter_long_words(my_list,5)\n",
    "\n",
    "print(res)"
   ]
  },
  {
   "cell_type": "markdown",
   "metadata": {},
   "source": [
    "Q.7 Write a Python program using function concept that maps list of words into a list of integers\n",
    "representing the lengths of the corresponding words.\n",
    "    \n",
    "    Hint: If a list [ ab,cde,erty] is passed on to the python function output should come as [2,3,4]\n",
    "    Here 2,3 and 4 are the lengths of the words in the list."
   ]
  },
  {
   "cell_type": "code",
   "execution_count": 17,
   "metadata": {},
   "outputs": [
    {
     "name": "stdout",
     "output_type": "stream",
     "text": [
      "[8, 5, 6, 7, 6]\n"
     ]
    }
   ],
   "source": [
    "def cal_len(my_list):\n",
    "    res = []\n",
    "    for i in my_list:\n",
    "        res.append(len(i))\n",
    "\n",
    "    return res\n",
    "\n",
    "\n",
    "my_list = [\"Abhishek\",\"Vinay\",\"Gaurav\",\"Vinayak\",\"Suresh\"]\n",
    "\n",
    "\n",
    "res = cal_len(my_list)\n",
    "\n",
    "print(res)"
   ]
  },
  {
   "cell_type": "markdown",
   "metadata": {},
   "source": [
    "Q.8 Write a Python function which takes a character (i.e. a string of length 1) and returns True if it is\n",
    "a vowel, False otherwise."
   ]
  },
  {
   "cell_type": "code",
   "execution_count": 15,
   "metadata": {},
   "outputs": [
    {
     "name": "stdout",
     "output_type": "stream",
     "text": [
      "Enter an alphabet : X\n",
      "This is not a vowel\n"
     ]
    }
   ],
   "source": [
    "def is_vowel(v):\n",
    "\n",
    "    vowel = \"AEIOU\"\n",
    "    if (v.upper() in vowel):\n",
    "        return True\n",
    "    else:\n",
    "        return False\n",
    "\n",
    "c = input(\"Enter an alphabet : \")\n",
    "\n",
    "if (is_vowel(c)):\n",
    "    print(\"This is vowel\" )\n",
    "else:\n",
    "    print(\"This is not a vowel\")\n",
    "    \n",
    "    \n",
    "    "
   ]
  },
  {
   "cell_type": "markdown",
   "metadata": {},
   "source": [
    "## Great job!"
   ]
  },
  {
   "cell_type": "code",
   "execution_count": null,
   "metadata": {},
   "outputs": [],
   "source": []
  }
 ],
 "metadata": {
  "kernelspec": {
   "display_name": "Python 3",
   "language": "python",
   "name": "python3"
  },
  "language_info": {
   "codemirror_mode": {
    "name": "ipython",
    "version": 3
   },
   "file_extension": ".py",
   "mimetype": "text/x-python",
   "name": "python",
   "nbconvert_exporter": "python",
   "pygments_lexer": "ipython3",
   "version": "3.7.4"
  }
 },
 "nbformat": 4,
 "nbformat_minor": 2
}
