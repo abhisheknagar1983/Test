{
 "cells": [
  {
   "cell_type": "markdown",
   "metadata": {},
   "source": [
    "# Assignment"
   ]
  },
  {
   "cell_type": "markdown",
   "metadata": {},
   "source": [
    "Q1. Write the Python class to convert an integer to a roman numeral?"
   ]
  },
  {
   "cell_type": "code",
   "execution_count": 44,
   "metadata": {},
   "outputs": [
    {
     "name": "stdout",
     "output_type": "stream",
     "text": [
      "Enter a integer from [I till X] : 9\n",
      "The roman number is : IX\n"
     ]
    }
   ],
   "source": [
    "class roman_number:\n",
    "    \n",
    "    def __init__(self):\n",
    "        self.d = {\n",
    "                  1: \"I\",\n",
    "                  2: \"II\",\n",
    "                  3: \"III\",\n",
    "                  4 :\"IV\",\n",
    "                  5 : \"V\",\n",
    "                  6: \"VI\",\n",
    "                  7: \"VII\",\n",
    "                  8: \"VIII\",\n",
    "                  9: \"IX\",\n",
    "                  10: \"X\"\n",
    "                 }\n",
    "        \n",
    "    def convert_to_int(self,val):\n",
    "        return self.d.get(val)\n",
    "    \n",
    "\n",
    "\n",
    "    \n",
    "r = roman_number()\n",
    "\n",
    "n = int(input(\"Enter a integer from [] : \"))\n",
    "\n",
    "if n > 10 or n < 1:\n",
    "    print(\"Sorry!! Not a valid number......\")\n",
    "else:    \n",
    "    res = r.convert_to_int(n)\n",
    "    print(\"The roman number is : \" + res)\n",
    "\n",
    "\n",
    "\n",
    "        "
   ]
  },
  {
   "cell_type": "markdown",
   "metadata": {},
   "source": [
    "Q2 Write the Python class to convert a Roman numeral to an integer?\n"
   ]
  },
  {
   "cell_type": "code",
   "execution_count": 49,
   "metadata": {},
   "outputs": [
    {
     "name": "stdout",
     "output_type": "stream",
     "text": [
      "Enter a roman number from [I till X] : VIII\n",
      "The integer number is : 8 \n"
     ]
    }
   ],
   "source": [
    "class integer_number:\n",
    "    \n",
    "    def __init__(self):\n",
    "        self.d = {\n",
    "                  \"I\" : 1,\n",
    "                  \"II\" : 2,\n",
    "                  \"III\": 3,\n",
    "                  \"IV\": 4,\n",
    "                  \"V\": 5,\n",
    "                  \"VI\": 6,\n",
    "                  \"VII\":7,\n",
    "                  \"VIII\" :8,\n",
    "                  \"IX\" :9,\n",
    "                  \"X\" : 10\n",
    "                 }\n",
    "        \n",
    "    def convert_to_int(self,val):\n",
    "        return self.d.get(val)\n",
    "    \n",
    "\n",
    "    \n",
    "r = integer_number()\n",
    "\n",
    "n = input(\"Enter a roman number from [I till X] : \")\n",
    "   \n",
    "res = r.convert_to_int(n.upper())\n",
    "\n",
    "if (res == None):\n",
    "    print(\"Not a Valid roman number ......\")\n",
    "else:    \n",
    "    print(\"The integer number is : {} \".format(res))"
   ]
  },
  {
   "cell_type": "markdown",
   "metadata": {},
   "source": [
    "Q3. Write the Python class to find the validity of the string of the\n",
    "parentheses, '(', ')', '{', '}', '[' and '] and the brackets must be closed\n",
    "in the correct order, example - \"()\" and \"()[]{}\" are valid but \"[)\",\n",
    "\"({[)]\" and \"{{{\" are invalid.\n"
   ]
  },
  {
   "cell_type": "code",
   "execution_count": null,
   "metadata": {},
   "outputs": [],
   "source": []
  },
  {
   "cell_type": "markdown",
   "metadata": {},
   "source": [
    "Q4. Write the Python class to get all possible unique subsets from a set\n",
    "of distinct integers?\n",
    "\n",
    "    Input - [4, 5, 6]\n",
    "    Output - [[], [6], [5], [5, 6], [4], [4, 6], [4, 5], [4, 5, 6]]"
   ]
  },
  {
   "cell_type": "code",
   "execution_count": null,
   "metadata": {},
   "outputs": [],
   "source": []
  },
  {
   "cell_type": "markdown",
   "metadata": {},
   "source": [
    "Q5. Write the Python class to find a pair of elements (indices of the two\n",
    "numbers) from a given array whose sum equals the specific target\n",
    "number?\n",
    "\n",
    "    Input: numbers- [10,20,10,40,50,60,70], target=50\n",
    "    Output- 3, 4"
   ]
  },
  {
   "cell_type": "code",
   "execution_count": 8,
   "metadata": {},
   "outputs": [
    {
     "name": "stdout",
     "output_type": "stream",
     "text": [
      "The Target is equal to index 2 and index 3 of the list \n"
     ]
    }
   ],
   "source": [
    "class Pair:\n",
    "    def __init__(self, my_list, target):\n",
    "        \n",
    "        self.my_list = my_list\n",
    "        self.target = target\n",
    "        \n",
    "    def is_sum(self):\n",
    "        for i in range (0, len(self.my_list)):\n",
    "            if (self.my_list[i] + self.my_list[i+1]) == self.target:\n",
    "               return(i,i+1)\n",
    "                        \n",
    "\n",
    "my_list = [10,20,10,40,50,60,70]   \n",
    "\n",
    "p = Pair(my_list,50)\n",
    "\n",
    "id1,id2  = p.is_sum()\n",
    "                        \n",
    "print(\"The Target is equal to index {} and index {} of the list \".format(id1,id2))                        \n",
    "    "
   ]
  },
  {
   "cell_type": "markdown",
   "metadata": {},
   "source": [
    "Q6. Write the Python class to find the three elements that sum to zero\n",
    "from the set of n real numbers?\n",
    "\n",
    "    Input array- [-25, -10, -7, -3, 2, 4, 8, 10]\n",
    "    Output - [[-10, 2, 8], [-7, -3, 10]]\n"
   ]
  },
  {
   "cell_type": "code",
   "execution_count": null,
   "metadata": {},
   "outputs": [],
   "source": [
    "class Zero_Sum:\n",
    "    \n",
    "    def __init__(self,my_list):\n",
    "        \n",
    "        self.my_list = list\n",
    "        \n",
    "    def is_zero():\n",
    "        res = []\n",
    "        for i in range(0,len(my_list)):\n",
    "            a = my_list[i]\n",
    "            b = my_list[i+1]\n",
    "            c = my_ist[i+2]\n",
    "            \n",
    "            if (a+b+c) == 50:\n",
    "                return (my_list.append(list[a,b,c]))\n",
    "            \n",
    "            \n",
    "        "
   ]
  },
  {
   "cell_type": "markdown",
   "metadata": {},
   "source": [
    "Q7. Write the Python class to implement pow(x, n)?"
   ]
  },
  {
   "cell_type": "code",
   "execution_count": 8,
   "metadata": {},
   "outputs": [
    {
     "name": "stdout",
     "output_type": "stream",
     "text": [
      "Enter the value for base : 10\n",
      "Enter the raise to power : 2\n",
      "The result is : 100 \n"
     ]
    }
   ],
   "source": [
    "def power(x,n):\n",
    "    res = 1\n",
    "    for i in range(1,n+1):\n",
    "        res = res * x\n",
    "\n",
    "    return res\n",
    "\n",
    "\n",
    "x = int(input(\"Enter the value for base : \"))\n",
    "n = int(input(\"Enter the raise to power : \"))\n",
    "res = power(x,n)\n",
    "\n",
    "print(\"The result is : {} \".format(res))\n"
   ]
  },
  {
   "cell_type": "markdown",
   "metadata": {},
   "source": [
    "Q8. Write the Python class which has two methods get_String and\n",
    "print_String. get_String accept the string from the user and \n",
    "print_String print the string in upper case."
   ]
  },
  {
   "cell_type": "code",
   "execution_count": 7,
   "metadata": {},
   "outputs": [
    {
     "name": "stdout",
     "output_type": "stream",
     "text": [
      "Enter the String : Abhishek\n",
      "ABHISHEK\n"
     ]
    }
   ],
   "source": [
    "class String:\n",
    "\n",
    "    def get_string(self):\n",
    "        self.st1 = input(\"Enter the String : \")\n",
    "\n",
    "    def print_string(self):\n",
    "        print(self.st1.upper())\n",
    "\n",
    "\n",
    "s = String()\n",
    "s.get_string()\n",
    "s.print_string()\n"
   ]
  },
  {
   "cell_type": "markdown",
   "metadata": {},
   "source": [
    "Q9. Write the Python class named Rectangle constructed by a length\n",
    "and width and the method which will compute the area of the\n",
    "rectangle?"
   ]
  },
  {
   "cell_type": "code",
   "execution_count": 4,
   "metadata": {},
   "outputs": [
    {
     "name": "stdout",
     "output_type": "stream",
     "text": [
      "Enter the length of Triangle : 10\n",
      "Enter the width of Triangle : 20\n",
      "Area of Triangle is : 100.0 \n"
     ]
    }
   ],
   "source": [
    "class Rectangle:\n",
    "\n",
    "    def __init__(self,len, wid):\n",
    "        self.length = len\n",
    "        self.width = wid\n",
    "\n",
    "    def cal_area(self):\n",
    "        return (self.length * self.width)/2\n",
    "\n",
    "\n",
    "len = int(input(\"Enter the length of Triangle : \"))\n",
    "wid = int(input(\"Enter the width of Triangle : \"))\n",
    "r =  Rectangle(len,wid)\n",
    "res = r.cal_area()\n",
    "print (\"Area of Triangle is : {} \".format(res))"
   ]
  },
  {
   "cell_type": "markdown",
   "metadata": {},
   "source": [
    "Q10. Write the Python class named Circle constructed by the radius\n",
    "and two methods which will compute the area and perimeter of\n",
    "the circle?"
   ]
  },
  {
   "cell_type": "code",
   "execution_count": 5,
   "metadata": {},
   "outputs": [
    {
     "name": "stdout",
     "output_type": "stream",
     "text": [
      "Enter the area of circle : 10\n",
      "The area of Trinagle is :314.1592653589793 \n",
      "The perimeter of Trinagle is :62.83185307179586 \n"
     ]
    }
   ],
   "source": [
    "import math\n",
    "class Circle:\n",
    "\n",
    "    def __init__(self,r):\n",
    "        self.radius = r\n",
    "\n",
    "    def calc_area(self):\n",
    "        return math.pi*self.radius*self.radius\n",
    "\n",
    "    def cal_pari(self):\n",
    "        return 2*math.pi*self.radius\n",
    "\n",
    "r = int(input(\"Enter the area of circle : \"))\n",
    "c = Circle(r)\n",
    "area = c.calc_area()\n",
    "para = c.cal_pari()\n",
    "\n",
    "print(\"The area of Trinagle is :{} \".format(area))\n",
    "print(\"The perimeter of Trinagle is :{} \".format(para))"
   ]
  },
  {
   "cell_type": "markdown",
   "metadata": {},
   "source": [
    "Q11. Write the Python program to get the class name of an instance in\n",
    "Python?"
   ]
  },
  {
   "cell_type": "code",
   "execution_count": 9,
   "metadata": {},
   "outputs": [
    {
     "name": "stdout",
     "output_type": "stream",
     "text": [
      "<__main__.MyClass object at 0x0000017B71968108>\n"
     ]
    }
   ],
   "source": [
    "class MyClass:\n",
    "    pass\n",
    "\n",
    "\n",
    "m = MyClass()\n",
    "\n",
    "print(m)"
   ]
  },
  {
   "cell_type": "markdown",
   "metadata": {},
   "source": [
    "Q12. Write the Python program to count the number of students of\n",
    "individual class?\n",
    "\n",
    "    Sample dataclasses = (\n",
    "    ('V', 1),\n",
    "    ('VI', 1),\n",
    "    ('V', 2),\n",
    "    ('VI', 2),\n",
    "    ('VI', 3),\n",
    "    ('VII', 1),\n",
    "    )\n",
    "    Expected OutputCounter({'VI': 3, 'V': 2, 'VII': 1})"
   ]
  },
  {
   "cell_type": "code",
   "execution_count": 11,
   "metadata": {},
   "outputs": [
    {
     "name": "stdout",
     "output_type": "stream",
     "text": [
      "[('VI', 3), ('V', 2), ('VII', 1)]\n"
     ]
    }
   ],
   "source": [
    "dataclasses = (\n",
    "('V', 1),\n",
    "('VI', 1),\n",
    "('V', 2),\n",
    "('VI', 2),\n",
    "('VI', 3),\n",
    "('VII', 1),\n",
    ")\n",
    "\n",
    "my_dict = {}\n",
    "\n",
    "for items in dataclasses:\n",
    "    my_dict[items[0]] = items[1]\n",
    "    \n",
    "\n",
    "my_dict = sorted(my_dict.items(), key=lambda x: x[1], reverse = True)\n",
    "\n",
    "print(my_dict)\n",
    "\n",
    "\n",
    "    \n",
    "    "
   ]
  },
  {
   "cell_type": "markdown",
   "metadata": {},
   "source": [
    "## Great Job!"
   ]
  }
 ],
 "metadata": {
  "kernelspec": {
   "display_name": "Python 3",
   "language": "python",
   "name": "python3"
  },
  "language_info": {
   "codemirror_mode": {
    "name": "ipython",
    "version": 3
   },
   "file_extension": ".py",
   "mimetype": "text/x-python",
   "name": "python",
   "nbconvert_exporter": "python",
   "pygments_lexer": "ipython3",
   "version": "3.7.4"
  }
 },
 "nbformat": 4,
 "nbformat_minor": 2
}
